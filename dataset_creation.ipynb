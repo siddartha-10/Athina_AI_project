{
 "cells": [
  {
   "cell_type": "code",
   "execution_count": 12,
   "metadata": {},
   "outputs": [
    {
     "data": {
      "text/plain": [
       "True"
      ]
     },
     "execution_count": 12,
     "metadata": {},
     "output_type": "execute_result"
    }
   ],
   "source": [
    "from langchain_community.document_loaders import TextLoader\n",
    "from langchain.text_splitter import CharacterTextSplitter\n",
    "from dotenv import load_dotenv\n",
    "from langchain_openai import AzureChatOpenAI\n",
    "from langchain.document_loaders import PyPDFLoader\n",
    "import os\n",
    "from langchain_openai import OpenAIEmbeddings\n",
    "from ragas.testset.generator import TestsetGenerator\n",
    "from ragas.testset.evolutions import simple, reasoning, multi_context\n",
    "load_dotenv()"
   ]
  },
  {
   "cell_type": "code",
   "execution_count": 3,
   "metadata": {},
   "outputs": [],
   "source": [
    "llm = AzureChatOpenAI(openai_api_version=os.environ.get(\"AZURE_OPENAI_VERSION\", \"2023-07-01-preview\"),\n",
    "    azure_deployment=os.environ.get(\"AZURE_OPENAI_DEPLOYMENT\", \"gpt4chat\"),\n",
    "    azure_endpoint=os.environ.get(\"AZURE_OPENAI_ENDPOINT\", \"https://gpt-4-trails.openai.azure.com/\"),\n",
    "    api_key=os.environ.get(\"AZURE_OPENAI_KEY\"))"
   ]
  },
  {
   "cell_type": "code",
   "execution_count": 4,
   "metadata": {},
   "outputs": [],
   "source": [
    "file_path = \"policy_data.pdf\"\n",
    "loader = PyPDFLoader(file_path)\n",
    "pages = loader.load()"
   ]
  },
  {
   "cell_type": "code",
   "execution_count": 5,
   "metadata": {},
   "outputs": [],
   "source": [
    "splitter = CharacterTextSplitter(\n",
    "    chunk_size=700,\n",
    "    length_function=len,\n",
    ")"
   ]
  },
  {
   "cell_type": "code",
   "execution_count": 6,
   "metadata": {},
   "outputs": [],
   "source": [
    "for document in pages:\n",
    "    document.metadata['file_name'] = document.metadata['source']"
   ]
  },
  {
   "cell_type": "code",
   "execution_count": 13,
   "metadata": {},
   "outputs": [],
   "source": [
    "embeddings = OpenAIEmbeddings(model=\"text-embedding-ada-002\")"
   ]
  },
  {
   "cell_type": "code",
   "execution_count": 16,
   "metadata": {},
   "outputs": [],
   "source": [
    "from ragas.testset.generator import TestsetGenerator\n",
    "from ragas.testset.evolutions import simple, reasoning, multi_context\n",
    "\n",
    "generator = TestsetGenerator.from_langchain(\n",
    "    generator_llm = llm,\n",
    "    critic_llm = llm,\n",
    "    embeddings= embeddings,\n",
    ")"
   ]
  },
  {
   "cell_type": "code",
   "execution_count": 18,
   "metadata": {},
   "outputs": [
    {
     "data": {
      "application/vnd.jupyter.widget-view+json": {
       "model_id": "3d902c32dce9414e90b95e380a21b6ce",
       "version_major": 2,
       "version_minor": 0
      },
      "text/plain": [
       "embedding nodes:   0%|          | 0/38 [00:00<?, ?it/s]"
      ]
     },
     "metadata": {},
     "output_type": "display_data"
    },
    {
     "name": "stderr",
     "output_type": "stream",
     "text": [
      "Exception in thread Thread-32:\n",
      "Traceback (most recent call last):\n",
      "  File \"/Users/siddartha/miniforge3/lib/python3.10/site-packages/openai/_base_client.py\", line 1522, in _request\n",
      "    response = await self._client.send(\n",
      "  File \"/Users/siddartha/miniforge3/lib/python3.10/site-packages/httpx/_client.py\", line 1661, in send\n",
      "    response = await self._send_handling_auth(\n",
      "  File \"/Users/siddartha/miniforge3/lib/python3.10/site-packages/httpx/_client.py\", line 1689, in _send_handling_auth\n",
      "    response = await self._send_handling_redirects(\n",
      "  File \"/Users/siddartha/miniforge3/lib/python3.10/site-packages/httpx/_client.py\", line 1726, in _send_handling_redirects\n",
      "    response = await self._send_single_request(request)\n",
      "  File \"/Users/siddartha/miniforge3/lib/python3.10/site-packages/httpx/_client.py\", line 1763, in _send_single_request\n",
      "    response = await transport.handle_async_request(request)\n",
      "  File \"/Users/siddartha/miniforge3/lib/python3.10/site-packages/httpx/_transports/default.py\", line 373, in handle_async_request\n",
      "    resp = await self._pool.handle_async_request(req)\n",
      "  File \"/Users/siddartha/miniforge3/lib/python3.10/site-packages/httpcore/_async/connection_pool.py\", line 216, in handle_async_request\n",
      "    raise exc from None\n",
      "  File \"/Users/siddartha/miniforge3/lib/python3.10/site-packages/httpcore/_async/connection_pool.py\", line 196, in handle_async_request\n",
      "    response = await connection.handle_async_request(\n",
      "  File \"/Users/siddartha/miniforge3/lib/python3.10/site-packages/httpcore/_async/connection.py\", line 101, in handle_async_request\n",
      "    return await self._connection.handle_async_request(request)\n",
      "  File \"/Users/siddartha/miniforge3/lib/python3.10/site-packages/httpcore/_async/http11.py\", line 143, in handle_async_request\n",
      "    raise exc\n",
      "  File \"/Users/siddartha/miniforge3/lib/python3.10/site-packages/httpcore/_async/http11.py\", line 113, in handle_async_request\n",
      "    ) = await self._receive_response_headers(**kwargs)\n",
      "  File \"/Users/siddartha/miniforge3/lib/python3.10/site-packages/httpcore/_async/http11.py\", line 186, in _receive_response_headers\n",
      "    event = await self._receive_event(timeout=timeout)\n",
      "  File \"/Users/siddartha/miniforge3/lib/python3.10/site-packages/httpcore/_async/http11.py\", line 224, in _receive_event\n",
      "    data = await self._network_stream.read(\n",
      "  File \"/Users/siddartha/miniforge3/lib/python3.10/site-packages/httpcore/_backends/anyio.py\", line 35, in read\n",
      "    return await self._stream.receive(max_bytes=max_bytes)\n",
      "  File \"/Users/siddartha/miniforge3/lib/python3.10/site-packages/anyio/streams/tls.py\", line 205, in receive\n",
      "    data = await self._call_sslobject_method(self._ssl_object.read, max_bytes)\n",
      "  File \"/Users/siddartha/miniforge3/lib/python3.10/site-packages/anyio/streams/tls.py\", line 147, in _call_sslobject_method\n",
      "    data = await self.transport_stream.receive()\n",
      "  File \"/Users/siddartha/miniforge3/lib/python3.10/site-packages/anyio/_backends/_asyncio.py\", line 1123, in receive\n",
      "    await self._protocol.read_event.wait()\n",
      "  File \"/Users/siddartha/miniforge3/lib/python3.10/asyncio/locks.py\", line 211, in wait\n",
      "    fut = self._get_loop().create_future()\n",
      "  File \"/Users/siddartha/miniforge3/lib/python3.10/asyncio/mixins.py\", line 30, in _get_loop\n",
      "    raise RuntimeError(f'{self!r} is bound to a different event loop')\n",
      "RuntimeError: <asyncio.locks.Event object at 0x1527b8c10 [unset]> is bound to a different event loop\n",
      "\n",
      "The above exception was the direct cause of the following exception:\n",
      "\n",
      "Traceback (most recent call last):\n",
      "  File \"/Users/siddartha/miniforge3/lib/python3.10/threading.py\", line 1016, in _bootstrap_inner\n",
      "    self.run()\n",
      "  File \"/Users/siddartha/miniforge3/lib/python3.10/site-packages/ragas/executor.py\", line 95, in run\n",
      "    results = self.loop.run_until_complete(self._aresults())\n",
      "  File \"/Users/siddartha/miniforge3/lib/python3.10/asyncio/base_events.py\", line 649, in run_until_complete\n",
      "    return future.result()\n",
      "  File \"/Users/siddartha/miniforge3/lib/python3.10/site-packages/ragas/executor.py\", line 83, in _aresults\n",
      "    raise e\n",
      "  File \"/Users/siddartha/miniforge3/lib/python3.10/site-packages/ragas/executor.py\", line 78, in _aresults\n",
      "    r = await future\n",
      "  File \"/Users/siddartha/miniforge3/lib/python3.10/asyncio/tasks.py\", line 571, in _wait_for_one\n",
      "    return f.result()  # May raise f.exception().\n",
      "  File \"/Users/siddartha/miniforge3/lib/python3.10/site-packages/ragas/executor.py\", line 37, in sema_coro\n",
      "    return await coro\n",
      "  File \"/Users/siddartha/miniforge3/lib/python3.10/site-packages/ragas/executor.py\", line 111, in wrapped_callable_async\n",
      "    return counter, await callable(*args, **kwargs)\n",
      "  File \"/Users/siddartha/miniforge3/lib/python3.10/site-packages/ragas/testset/extractor.py\", line 49, in extract\n",
      "    results = await self.llm.generate(prompt=prompt, is_async=is_async)\n",
      "  File \"/Users/siddartha/miniforge3/lib/python3.10/site-packages/ragas/llms/base.py\", line 93, in generate\n",
      "    return await agenerate_text_with_retry(\n",
      "  File \"/Users/siddartha/miniforge3/lib/python3.10/site-packages/tenacity/_asyncio.py\", line 88, in async_wrapped\n",
      "    return await fn(*args, **kwargs)\n",
      "  File \"/Users/siddartha/miniforge3/lib/python3.10/site-packages/tenacity/_asyncio.py\", line 47, in __call__\n",
      "    do = self.iter(retry_state=retry_state)\n",
      "  File \"/Users/siddartha/miniforge3/lib/python3.10/site-packages/tenacity/__init__.py\", line 314, in iter\n",
      "    return fut.result()\n",
      "  File \"/Users/siddartha/miniforge3/lib/python3.10/concurrent/futures/_base.py\", line 451, in result\n",
      "    return self.__get_result()\n",
      "  File \"/Users/siddartha/miniforge3/lib/python3.10/concurrent/futures/_base.py\", line 403, in __get_result\n",
      "    raise self._exception\n",
      "  File \"/Users/siddartha/miniforge3/lib/python3.10/site-packages/tenacity/_asyncio.py\", line 50, in __call__\n",
      "    result = await fn(*args, **kwargs)\n",
      "  File \"/Users/siddartha/miniforge3/lib/python3.10/site-packages/ragas/llms/base.py\", line 170, in agenerate_text\n",
      "    return await self.langchain_llm.agenerate_prompt(\n",
      "  File \"/Users/siddartha/miniforge3/lib/python3.10/site-packages/langchain_core/language_models/chat_models.py\", line 609, in agenerate_prompt\n",
      "    return await self.agenerate(\n",
      "  File \"/Users/siddartha/miniforge3/lib/python3.10/site-packages/langchain_core/language_models/chat_models.py\", line 569, in agenerate\n",
      "    raise exceptions[0]\n",
      "  File \"/Users/siddartha/miniforge3/lib/python3.10/site-packages/langchain_core/language_models/chat_models.py\", line 754, in _agenerate_with_cache\n",
      "    result = await self._agenerate(\n",
      "  File \"/Users/siddartha/miniforge3/lib/python3.10/site-packages/langchain_openai/chat_models/base.py\", line 546, in _agenerate\n",
      "    raise ValueError(\"`stop` found in both the input and default params.\")\n",
      "  File \"/Users/siddartha/miniforge3/lib/python3.10/site-packages/openai/resources/chat/completions.py\", line 1181, in create\n",
      "    return await self._post(\n",
      "  File \"/Users/siddartha/miniforge3/lib/python3.10/site-packages/openai/_base_client.py\", line 1790, in post\n",
      "    return await self.request(cast_to, opts, stream=stream, stream_cls=stream_cls)\n",
      "  File \"/Users/siddartha/miniforge3/lib/python3.10/site-packages/openai/_base_client.py\", line 1493, in request\n",
      "    return await self._request(\n",
      "  File \"/Users/siddartha/miniforge3/lib/python3.10/site-packages/openai/_base_client.py\", line 1569, in _request\n",
      "    return await self._retry_request(\n",
      "  File \"/Users/siddartha/miniforge3/lib/python3.10/site-packages/openai/_base_client.py\", line 1615, in _retry_request\n",
      "    return await self._request(\n",
      "  File \"/Users/siddartha/miniforge3/lib/python3.10/site-packages/openai/_base_client.py\", line 1569, in _request\n",
      "    return await self._retry_request(\n",
      "  File \"/Users/siddartha/miniforge3/lib/python3.10/site-packages/openai/_base_client.py\", line 1615, in _retry_request\n",
      "    return await self._request(\n",
      "  File \"/Users/siddartha/miniforge3/lib/python3.10/site-packages/openai/_base_client.py\", line 1556, in _request\n",
      "    raise APIConnectionError(request=request) from err\n",
      "openai.APIConnectionError: Connection error.\n",
      "Filename and doc_id are the same for all nodes.\n"
     ]
    },
    {
     "data": {
      "application/vnd.jupyter.widget-view+json": {
       "model_id": "292704722fb0408faf028bd8bcfd9786",
       "version_major": 2,
       "version_minor": 0
      },
      "text/plain": [
       "Generating:   0%|          | 0/10 [00:00<?, ?it/s]"
      ]
     },
     "metadata": {},
     "output_type": "display_data"
    },
    {
     "name": "stderr",
     "output_type": "stream",
     "text": [
      "Task was destroyed but it is pending!\n",
      "task: <Task pending name='Task-326' coro=<as_completed.<locals>.sema_coro() done, defined at /Users/siddartha/miniforge3/lib/python3.10/site-packages/ragas/executor.py:35> wait_for=<_GatheringFuture pending cb=[Task.task_wakeup()]> cb=[as_completed.<locals>._on_completion() at /Users/siddartha/miniforge3/lib/python3.10/asyncio/tasks.py:558]>\n",
      "Task was destroyed but it is pending!\n",
      "task: <Task pending name='Task-327' coro=<as_completed.<locals>.sema_coro() done, defined at /Users/siddartha/miniforge3/lib/python3.10/site-packages/ragas/executor.py:35> wait_for=<Future pending cb=[Task.task_wakeup()]> cb=[as_completed.<locals>._on_completion() at /Users/siddartha/miniforge3/lib/python3.10/asyncio/tasks.py:558]>\n",
      "Task was destroyed but it is pending!\n",
      "task: <Task pending name='Task-329' coro=<as_completed.<locals>.sema_coro() done, defined at /Users/siddartha/miniforge3/lib/python3.10/site-packages/ragas/executor.py:35> wait_for=<_GatheringFuture pending cb=[Task.task_wakeup()]> cb=[as_completed.<locals>._on_completion() at /Users/siddartha/miniforge3/lib/python3.10/asyncio/tasks.py:558]>\n",
      "Task was destroyed but it is pending!\n",
      "task: <Task pending name='Task-330' coro=<as_completed.<locals>.sema_coro() done, defined at /Users/siddartha/miniforge3/lib/python3.10/site-packages/ragas/executor.py:35> wait_for=<Future pending cb=[Task.task_wakeup()]> cb=[as_completed.<locals>._on_completion() at /Users/siddartha/miniforge3/lib/python3.10/asyncio/tasks.py:558]>\n",
      "Task was destroyed but it is pending!\n",
      "task: <Task pending name='Task-331' coro=<as_completed.<locals>.sema_coro() done, defined at /Users/siddartha/miniforge3/lib/python3.10/site-packages/ragas/executor.py:35> wait_for=<_GatheringFuture pending cb=[Task.task_wakeup()]> cb=[as_completed.<locals>._on_completion() at /Users/siddartha/miniforge3/lib/python3.10/asyncio/tasks.py:558]>\n",
      "Task was destroyed but it is pending!\n",
      "task: <Task pending name='Task-332' coro=<as_completed.<locals>.sema_coro() done, defined at /Users/siddartha/miniforge3/lib/python3.10/site-packages/ragas/executor.py:35> wait_for=<_GatheringFuture pending cb=[Task.task_wakeup()]> cb=[as_completed.<locals>._on_completion() at /Users/siddartha/miniforge3/lib/python3.10/asyncio/tasks.py:558]>\n",
      "Task was destroyed but it is pending!\n",
      "task: <Task pending name='Task-333' coro=<as_completed.<locals>.sema_coro() done, defined at /Users/siddartha/miniforge3/lib/python3.10/site-packages/ragas/executor.py:35> wait_for=<_GatheringFuture pending cb=[Task.task_wakeup()]> cb=[as_completed.<locals>._on_completion() at /Users/siddartha/miniforge3/lib/python3.10/asyncio/tasks.py:558]>\n",
      "Task was destroyed but it is pending!\n",
      "task: <Task pending name='Task-334' coro=<as_completed.<locals>.sema_coro() done, defined at /Users/siddartha/miniforge3/lib/python3.10/site-packages/ragas/executor.py:35> wait_for=<_GatheringFuture pending cb=[Task.task_wakeup()]> cb=[as_completed.<locals>._on_completion() at /Users/siddartha/miniforge3/lib/python3.10/asyncio/tasks.py:558]>\n",
      "Task was destroyed but it is pending!\n",
      "task: <Task pending name='Task-335' coro=<as_completed.<locals>.sema_coro() done, defined at /Users/siddartha/miniforge3/lib/python3.10/site-packages/ragas/executor.py:35> wait_for=<_GatheringFuture pending cb=[Task.task_wakeup()]> cb=[as_completed.<locals>._on_completion() at /Users/siddartha/miniforge3/lib/python3.10/asyncio/tasks.py:558]>\n"
     ]
    }
   ],
   "source": [
    "testset = generator.generate_with_langchain_docs(pages, test_size=10, distributions={simple: 0.25, reasoning: 0.50, multi_context: 0.25})"
   ]
  },
  {
   "cell_type": "code",
   "execution_count": 20,
   "metadata": {},
   "outputs": [],
   "source": [
    "data_ragas = testset.to_pandas()"
   ]
  },
  {
   "cell_type": "code",
   "execution_count": 21,
   "metadata": {},
   "outputs": [],
   "source": [
    "data_ragas.to_csv(\"data_testing_ragas.csv\", index=False)"
   ]
  },
  {
   "cell_type": "code",
   "execution_count": null,
   "metadata": {},
   "outputs": [],
   "source": []
  }
 ],
 "metadata": {
  "kernelspec": {
   "display_name": "base",
   "language": "python",
   "name": "python3"
  },
  "language_info": {
   "codemirror_mode": {
    "name": "ipython",
    "version": 3
   },
   "file_extension": ".py",
   "mimetype": "text/x-python",
   "name": "python",
   "nbconvert_exporter": "python",
   "pygments_lexer": "ipython3",
   "version": "3.10.14"
  }
 },
 "nbformat": 4,
 "nbformat_minor": 2
}
