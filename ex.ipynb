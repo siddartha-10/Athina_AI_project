{
 "cells": [
  {
   "cell_type": "code",
   "execution_count": 1,
   "metadata": {},
   "outputs": [],
   "source": [
    "import os\n",
    "from dotenv import load_dotenv\n",
    "# # from crewai import Crew, Process\n",
    "from langchain_openai import AzureChatOpenAI\n",
    "from crewai import Agent, Task, Crew, Process\n",
    "from langchain_experimental.agents import create_pandas_dataframe_agent\n",
    "import pandas as pd\n",
    "from langchain.schema import HumanMessage\n",
    "from langchain_experimental.tools import PythonREPLTool\n",
    "tool = PythonREPLTool()\n",
    "from langchain.agents import load_tools\n",
    "human_tool = load_tools([\"human\"])\n",
    "\n",
    "load_dotenv()\n",
    "\n",
    "default_llm = AzureChatOpenAI(\n",
    "    openai_api_version=os .environ.get(\"AZURE_OPENAI_VERSION\", \"2024-07-18\"),\n",
    "    azure_deployment=os.environ.get(\"AZURE_OPENAI_DEPLOYMENT\", \"gpt-4o-mini\"),\n",
    "    azure_endpoint=os.environ.get(\"AZURE_OPENAI_ENDPOINT\", \"https://gptmini4o.openai.azure.com/openai/deployments/gpt-4o-mini/chat/completions?api-version=2023-03-15-preview\"),\n",
    "    api_key=os.environ.get(\"AZURE_OPENAI_KEY\", \"c2105be0c2744742980b57320b87e813\")\n",
    ")"
   ]
  },
  {
   "cell_type": "code",
   "execution_count": 2,
   "metadata": {},
   "outputs": [
    {
     "data": {
      "text/plain": [
       "AIMessage(content=\"Hello, I'm doing well, thank you! I'm an artificial intelligence called OpenAI, so I don't have a personal name like a human. How can I assist you today?\", response_metadata={'token_usage': {'completion_tokens': 38, 'prompt_tokens': 18, 'total_tokens': 56, 'completion_tokens_details': None}, 'model_name': 'gpt-4-32k', 'system_fingerprint': None, 'prompt_filter_results': [{'prompt_index': 0, 'content_filter_results': {}}], 'finish_reason': 'stop', 'logprobs': None, 'content_filter_results': {'hate': {'filtered': False, 'severity': 'safe'}, 'self_harm': {'filtered': False, 'severity': 'safe'}, 'sexual': {'filtered': False, 'severity': 'safe'}, 'violence': {'filtered': False, 'severity': 'safe'}}}, id='run-cadb7783-dde9-44f5-a57a-3ae920bba1c1-0', usage_metadata={'input_tokens': 18, 'output_tokens': 38, 'total_tokens': 56})"
      ]
     },
     "execution_count": 2,
     "metadata": {},
     "output_type": "execute_result"
    }
   ],
   "source": [
    "default_llm.invoke(\"Hello, how are you? what is your name?\")"
   ]
  },
  {
   "cell_type": "code",
   "execution_count": null,
   "metadata": {},
   "outputs": [],
   "source": []
  }
 ],
 "metadata": {
  "kernelspec": {
   "display_name": "base",
   "language": "python",
   "name": "python3"
  },
  "language_info": {
   "codemirror_mode": {
    "name": "ipython",
    "version": 3
   },
   "file_extension": ".py",
   "mimetype": "text/x-python",
   "name": "python",
   "nbconvert_exporter": "python",
   "pygments_lexer": "ipython3",
   "version": "3.12.0"
  }
 },
 "nbformat": 4,
 "nbformat_minor": 2
}
