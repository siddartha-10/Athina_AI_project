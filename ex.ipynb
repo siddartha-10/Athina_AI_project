{
 "cells": [
  {
   "cell_type": "code",
   "execution_count": 1,
   "metadata": {},
   "outputs": [
    {
     "name": "stderr",
     "output_type": "stream",
     "text": [
      "/Users/siddartha/miniforge3/lib/python3.10/site-packages/sentence_transformers/cross_encoder/CrossEncoder.py:11: TqdmExperimentalWarning: Using `tqdm.autonotebook.tqdm` in notebook mode. Use `tqdm.tqdm` instead to force console mode (e.g. in jupyter console)\n",
      "  from tqdm.autonotebook import tqdm, trange\n"
     ]
    },
    {
     "data": {
      "text/plain": [
       "True"
      ]
     },
     "execution_count": 1,
     "metadata": {},
     "output_type": "execute_result"
    }
   ],
   "source": [
    "from dotenv import load_dotenv\n",
    "from langchain_openai import AzureChatOpenAI\n",
    "import os\n",
    "from langchain.document_loaders import PyPDFLoader\n",
    "from langchain_text_splitters import RecursiveCharacterTextSplitter\n",
    "from sentence_transformers import SentenceTransformer # type: ignore\n",
    "from langchain_openai import OpenAIEmbeddings\n",
    "from langchain.vectorstores import FAISS\n",
    "# from langchain.globals import set_llm_cache\n",
    "from langchain_community.cache import InMemoryCache\n",
    "from langchain_core.prompts import PromptTemplate\n",
    "from langchain.chains import RetrievalQA\n",
    "load_dotenv()"
   ]
  },
  {
   "cell_type": "code",
   "execution_count": 2,
   "metadata": {},
   "outputs": [],
   "source": [
    "llm = AzureChatOpenAI(openai_api_version=os.environ.get(\"AZURE_OPENAI_VERSION\", \"2023-07-01-preview\"),\n",
    "    azure_deployment=os.environ.get(\"AZURE_OPENAI_DEPLOYMENT\", \"gpt4chat\"),\n",
    "    azure_endpoint=os.environ.get(\"AZURE_OPENAI_ENDPOINT\", \"https://gpt-4-trails.openai.azure.com/\"),\n",
    "    api_key=os.environ.get(\"AZURE_OPENAI_KEY\"))"
   ]
  },
  {
   "cell_type": "code",
   "execution_count": 3,
   "metadata": {},
   "outputs": [],
   "source": [
    "file_path = \"policy_data.pdf\"\n",
    "loader = PyPDFLoader(file_path)\n",
    "pages = loader.load()"
   ]
  },
  {
   "cell_type": "code",
   "execution_count": 4,
   "metadata": {},
   "outputs": [
    {
     "data": {
      "text/plain": [
       "44"
      ]
     },
     "execution_count": 4,
     "metadata": {},
     "output_type": "execute_result"
    }
   ],
   "source": [
    "len(pages)"
   ]
  },
  {
   "cell_type": "code",
   "execution_count": 6,
   "metadata": {},
   "outputs": [
    {
     "name": "stdout",
     "output_type": "stream",
     "text": [
      "page_content='Page 31Where you can drive\\nThe area your policy applies \\n(the territorial limits)\\nYour car insurance gives you the cover \\ndescribed in your car insurance details in:\\n>Great Britain.\\n>Northern Ireland.\\n>the Channel Islands.\\n>the Isle of Man.\\nIt also covers journeys between these places.\\nPlease note: your ‘Liability for automated cars in \\nGreat Britain’ cover only applies in Great Britain, \\nwhich is: \\n>England.\\n>Scotland.\\n>Wales.\\nPlease see ‘Liability for automated cars in Great \\nBritain’ on page 13 for more details.\\nIf you drive in the Republic of Ireland\\nIf you use your car in the Republic of Ireland, \\nyour car insurance gives you the same cover as \\nyou have within the territorial limits. However:\\n>If you have Motor Legal Cover, this cover doesn’t apply to any claims in the Republic of Ireland, apart from road traffic accident claims. \\n>If you have a courtesy car, it cannot be used \\nin the Republic of Ireland.\\n>If you have Guaranteed Hire Car Plus, and you have been provided with a hire car, this policy doesn’t give you cover to drive in the \\nRepublic of Ireland. Please check with the company that we instruct to give you the hire car to see if you are covered by their insurance.Your car insurance cover in the \\nrest of Europe\\nThird Party, Fire and Theft\\nTPFT\\nYou can add Foreign Use Extension to give you \\nthe same level of cover under ‘Liability to other people (third parties)’ in section 1 (excluding any cover the main driver has when driving another car) and section 2 as you have within the territorial limits in the countries listed in the \\n‘Countries where you have minimum cover’. \\nYou’ll need to pay extra to add this and get in \\ntouch before your trip starts. \\nEssentials\\nEssential\\nYou can add Foreign Use Extension to give you the same level of cover under ‘Liability to other people (third parties)’ in section 1 and sections 2, 4 and 5 as you have within the territorial \\nlimits in the countries listed in the ‘Countries where you have minimum cover’. \\nYou’ll need to pay extra to add this and get in \\ntouch before your trip starts. \\nComprehensive\\nComp\\nYou can add Foreign Use Extension to give you the same level of cover under ‘Liability to other people (third parties)’ in section 1 (excluding any cover the main driver has when driving another car) and sections 2, 4 and 5 as you have within the territorial limits in the countries \\nlisted in the ‘Countries where you have minimum cover’. \\nYou’ll need to pay extra to add this and get in \\ntouch before your trip starts. Where you can drive' metadata={'source': 'policy_data.pdf', 'page': 30}\n"
     ]
    }
   ],
   "source": [
    "print(pages[30])"
   ]
  },
  {
   "cell_type": "code",
   "execution_count": 7,
   "metadata": {},
   "outputs": [],
   "source": [
    "splitter = RecursiveCharacterTextSplitter(\n",
    "    chunk_size=700,\n",
    "    chunk_overlap=50,\n",
    "    length_function=len,\n",
    ")"
   ]
  },
  {
   "cell_type": "code",
   "execution_count": 8,
   "metadata": {},
   "outputs": [],
   "source": [
    "pages_text = [pages.page_content for pages in pages]\n",
    "# the type of pages is documents but we need to convert them into list of strings for splitting the text."
   ]
  },
  {
   "cell_type": "code",
   "execution_count": 9,
   "metadata": {},
   "outputs": [],
   "source": [
    "documents = splitter.create_documents(pages_text)\n",
    "# splitting the text into chunks of 250 characters and 50 characters overlap."
   ]
  },
  {
   "cell_type": "code",
   "execution_count": 10,
   "metadata": {},
   "outputs": [
    {
     "data": {
      "text/plain": [
       "langchain_core.documents.base.Document"
      ]
     },
     "execution_count": 10,
     "metadata": {},
     "output_type": "execute_result"
    }
   ],
   "source": [
    "type(documents[0])"
   ]
  },
  {
   "cell_type": "code",
   "execution_count": 11,
   "metadata": {},
   "outputs": [
    {
     "name": "stdout",
     "output_type": "stream",
     "text": [
      "page_content='Page 2FAQs  3\\nGlossary  4\\nMaking a claim  6\\nWhat your cover includes  8\\nSection 1: Liability  11\\nSection 2: Fire and theft  14\\nSection 3: Courtesy car  17\\nSection 4: Accidental damage  18\\nSection 5: Windscreen damage  20\\nSection 6: Personal benefits  21\\nSection 7: Motor Legal Cover  23\\nSection 8: Guaranteed Hire Car Plus  28\\nSection 9: Protected No Claim Discount  30Where you can drive  31\\nLosses we don’t cover  33\\nOther conditions you need to know about  36\\nHow the policy works  37\\nEverything else  41\\nIf you have a complaint  42\\nIf you’re in an accident  43\\nHow to get in touch  Back coverContentsWelcome to Churchill\\nThis booklet tells you about your car insurance\\nAbout the policy'\n"
     ]
    }
   ],
   "source": [
    "print(documents[1])"
   ]
  },
  {
   "cell_type": "code",
   "execution_count": 12,
   "metadata": {},
   "outputs": [],
   "source": [
    "embeddings = OpenAIEmbeddings(model=\"text-embedding-ada-002\")"
   ]
  },
  {
   "cell_type": "code",
   "execution_count": 124,
   "metadata": {},
   "outputs": [],
   "source": [
    "# set_llm_cache(InMemoryCache())"
   ]
  },
  {
   "cell_type": "code",
   "execution_count": 13,
   "metadata": {},
   "outputs": [],
   "source": [
    "def get_vectorstore(text_chunks):\n",
    "    # Check if the FAISS index file already exists\n",
    "    if os.path.exists(\"faiss_index\"):\n",
    "        embeddings = OpenAIEmbeddings()\n",
    "        # Load the existing FAISS index\n",
    "        vectorstore = FAISS.load_local(\"faiss_index\", embeddings)\n",
    "        print(\"Loaded existing FAISS index.\")\n",
    "    else:\n",
    "        # Create a new FAISS index\n",
    "        embeddings = OpenAIEmbeddings()\n",
    "        vectorstore = FAISS.from_documents(documents=text_chunks, embedding=embeddings)\n",
    "        # Save the new FAISS index locally\n",
    "        vectorstore.save_local(\"faiss_index\")\n",
    "        print(\"Created and saved new FAISS index.\")\n",
    "    return vectorstore"
   ]
  },
  {
   "cell_type": "code",
   "execution_count": 14,
   "metadata": {},
   "outputs": [
    {
     "name": "stdout",
     "output_type": "stream",
     "text": [
      "Created and saved new FAISS index.\n"
     ]
    }
   ],
   "source": [
    "retriever = get_vectorstore(documents).as_retriever()# here i am using the vector_db as retriever to retrieve the documents."
   ]
  },
  {
   "cell_type": "code",
   "execution_count": 31,
   "metadata": {},
   "outputs": [],
   "source": [
    "template = \"\"\"Use the context below to answer the question.\n",
    "Keep the answer concise and to the point.\n",
    "If you are unsure about the answer, just say i do not know the answer to the question do not create your own answer and make sure the answer is concise and to the point.\n",
    "use 3-4 sentences at max to answer the questions.\n",
    "{context}\n",
    "\n",
    "Question: {question}\n",
    "\n",
    "Helpful Answer:\"\"\"\n",
    "prompt = PromptTemplate.from_template(template)"
   ]
  },
  {
   "cell_type": "code",
   "execution_count": 32,
   "metadata": {},
   "outputs": [],
   "source": [
    "chain_type_kwargs = {\"prompt\": prompt}\n",
    "chain = RetrievalQA.from_chain_type(\n",
    "    llm = llm,\n",
    "    chain_type=\"stuff\",\n",
    "    retriever=retriever,\n",
    "    chain_type_kwargs=chain_type_kwargs,\n",
    ")"
   ]
  },
  {
   "cell_type": "code",
   "execution_count": 33,
   "metadata": {},
   "outputs": [],
   "source": [
    "result = chain.invoke(\"What steps should you take if you are unhappy with the response from an independent review and want to escalate your complaint to the Financial Ombudsman Service?\")"
   ]
  },
  {
   "cell_type": "code",
   "execution_count": 36,
   "metadata": {},
   "outputs": [
    {
     "name": "stdout",
     "output_type": "stream",
     "text": [
      "If you're unhappy with the response from an independent review, you can escalate your complaint to the Financial Ombudsman Service (FOS). You should contact the FOS within 6 months of the response letter. You can reach them through email at complaint.info@financial-ombudsman.org.uk, phone (UK: 0300 123 9123 or 0800 023 4567, Abroad: +44 (0) 20 7964 0500), or by writing to Financial Ombudsman Service, Exchange Tower, London E14 9SR.\n"
     ]
    }
   ],
   "source": [
    "print(result['result'])"
   ]
  },
  {
   "cell_type": "code",
   "execution_count": null,
   "metadata": {},
   "outputs": [],
   "source": []
  },
  {
   "cell_type": "code",
   "execution_count": null,
   "metadata": {},
   "outputs": [],
   "source": [
    "\"\"\"\n",
    "You are a language model designed to evaluate the responses of this documentation query system.\n",
    "You will use a rating scale of 0 to 10, 0 being poorest response and 10 being the best.\n",
    "Responses with “not specified” or “no specific mention” or “rephrase question” or “unclear” or no documents returned or empty response are considered poor responses.\n",
    "Responses where the question appears to be answered are considered good.\n",
    "Responses that contain detailed answers are considered the best.\n",
    "Also, use your own judgement in analyzing if the question asked is actually answered in the response. Remember that a response that contains a request to “rephrase the question” is usually a non-response.\n",
    "Please rate the question/response pair entered. Only respond with the rating. No explanation necessary. Only integers.\n",
    "\"\"\""
   ]
  }
 ],
 "metadata": {
  "kernelspec": {
   "display_name": "base",
   "language": "python",
   "name": "python3"
  },
  "language_info": {
   "codemirror_mode": {
    "name": "ipython",
    "version": 3
   },
   "file_extension": ".py",
   "mimetype": "text/x-python",
   "name": "python",
   "nbconvert_exporter": "python",
   "pygments_lexer": "ipython3",
   "version": "3.10.14"
  }
 },
 "nbformat": 4,
 "nbformat_minor": 2
}
