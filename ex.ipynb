{
 "cells": [
  {
   "cell_type": "code",
   "execution_count": 5,
   "metadata": {},
   "outputs": [],
   "source": [
    "import os\n",
    "from dotenv import load_dotenv\n",
    "# # from crewai import Crew, Process\n",
    "from langchain_openai import AzureChatOpenAI\n",
    "from crewai import Agent, Task, Crew, Process\n",
    "from langchain_experimental.agents import create_pandas_dataframe_agent\n",
    "import pandas as pd\n",
    "from langchain.schema import HumanMessage\n",
    "from langchain_experimental.tools import PythonREPLTool\n",
    "tool = PythonREPLTool()\n",
    "from langchain.agents import load_tools\n",
    "human_tool = load_tools([\"human\"])\n",
    "\n",
    "load_dotenv()\n",
    "\n",
    "default_llm = AzureChatOpenAI(\n",
    "    openai_api_version=os .environ.get(\"AZURE_OPENAI_VERSION\",),\n",
    "    azure_deployment=os.environ.get(\"AZURE_OPENAI_DEPLOYMENT\",),\n",
    "    azure_endpoint=os.environ.get(\"AZURE_OPENAI_ENDPOINT\", ),\n",
    "    api_key=os.environ.get(\"AZURE_OPENAI_KEY\",)\n",
    ")"
   ]
  },
  {
   "cell_type": "code",
   "execution_count": 7,
   "metadata": {},
   "outputs": [
    {
     "data": {
      "text/plain": [
       "\"Hello! I'm doing well, thank you. I'm an artificial intelligence called OpenAI. I don't have a personal name because I'm a computer program created by OpenAI. How can I assist you today?\""
      ]
     },
     "execution_count": 7,
     "metadata": {},
     "output_type": "execute_result"
    }
   ],
   "source": [
    "default_llm.invoke(\"Hello, how are you? what is your name?\").content"
   ]
  },
  {
   "cell_type": "code",
   "execution_count": null,
   "metadata": {},
   "outputs": [],
   "source": []
  }
 ],
 "metadata": {
  "kernelspec": {
   "display_name": "base",
   "language": "python",
   "name": "python3"
  },
  "language_info": {
   "codemirror_mode": {
    "name": "ipython",
    "version": 3
   },
   "file_extension": ".py",
   "mimetype": "text/x-python",
   "name": "python",
   "nbconvert_exporter": "python",
   "pygments_lexer": "ipython3",
   "version": "3.12.0"
  }
 },
 "nbformat": 4,
 "nbformat_minor": 2
}
