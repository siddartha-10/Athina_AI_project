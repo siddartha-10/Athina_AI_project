{
 "cells": [
  {
   "cell_type": "code",
   "execution_count": 37,
   "metadata": {},
   "outputs": [
    {
     "data": {
      "text/plain": [
       "True"
      ]
     },
     "execution_count": 37,
     "metadata": {},
     "output_type": "execute_result"
    }
   ],
   "source": [
    "from dotenv import load_dotenv\n",
    "from langchain_openai import AzureChatOpenAI\n",
    "import os\n",
    "from langchain.document_loaders import PyPDFLoader\n",
    "from langchain_text_splitters import RecursiveCharacterTextSplitter\n",
    "from sentence_transformers import SentenceTransformer # type: ignore\n",
    "load_dotenv()"
   ]
  },
  {
   "cell_type": "code",
   "execution_count": 2,
   "metadata": {},
   "outputs": [],
   "source": [
    "llm = AzureChatOpenAI(openai_api_version=os.environ.get(\"AZURE_OPENAI_VERSION\", \"2023-07-01-preview\"),\n",
    "    azure_deployment=os.environ.get(\"AZURE_OPENAI_DEPLOYMENT\", \"gpt4chat\"),\n",
    "    azure_endpoint=os.environ.get(\"AZURE_OPENAI_ENDPOINT\", \"https://gpt-4-trails.openai.azure.com/\"),\n",
    "    api_key=os.environ.get(\"AZURE_OPENAI_KEY\"))"
   ]
  },
  {
   "cell_type": "code",
   "execution_count": 4,
   "metadata": {},
   "outputs": [],
   "source": [
    "file_path = \"biomed.pdf\"\n",
    "loader = PyPDFLoader(file_path)\n",
    "pages = loader.load()"
   ]
  },
  {
   "cell_type": "code",
   "execution_count": 5,
   "metadata": {},
   "outputs": [
    {
     "data": {
      "text/plain": [
       "12"
      ]
     },
     "execution_count": 5,
     "metadata": {},
     "output_type": "execute_result"
    }
   ],
   "source": [
    "len(pages)"
   ]
  },
  {
   "cell_type": "code",
   "execution_count": 13,
   "metadata": {},
   "outputs": [
    {
     "name": "stdout",
     "output_type": "stream",
     "text": [
      "page_content='Citation: Pullakhandam, S.; McRoy, S.\\nClassification and Explanation of Iron\\nDeficiency Anemia from Complete\\nBlood Count Data Using Machine\\nLearning. BioMedInformatics 2024 ,4,\\n661–673. https://doi.org/10.3390/\\nbiomedinformatics4010036\\nAcademic Editors: Pentti Nieminen\\nand Jörn Lötsch\\nReceived: 12 January 2024\\nRevised: 15 February 2024\\nAccepted: 22 February 2024\\nPublished: 1 March 2024\\nCopyright: ©2024 by the authors.\\nLicensee MDPI, Basel, Switzerland.\\nThis article is an open access article\\ndistributed under the terms and\\nconditions of the Creative Commons\\nAttribution (CC BY) license (https://\\ncreativecommons.org/licenses/by/\\n4.0/).\\nArticle\\nClassification and Explanation of Iron Deficiency Anemia from\\nComplete Blood Count Data Using Machine Learning\\nSiddartha Pullakhandam and Susan McRoy *\\nDepartment of Computer Science, University of Wisconsin-Milwaukee, Milwaukee, WI 53211, USA;\\npullakh2@uwm.edu\\n*Correspondence: mcroy@uwm.edu; Tel.: +1-414-229-6695\\nAbstract: Background: Currently, discriminating Iron Deficiency Anemia (IDA) from other anemia\\nrequires an expensive test (serum ferritin). Complete Blood Count (CBC) tests are less costly and more\\nwidely available. Machine learning models have not yet been applied to discriminating IDA but do\\nwell for similar tasks. Methods: We constructed multiple machine learning methods to classify IDA\\nfrom CBC data using a US NHANES dataset of over 19,000 instances, calculating accuracy, precision,\\nrecall, and precision AUC (PR AUC). We validated the results using an unseen dataset from Kenya,\\nusing the same model. We calculated ranked feature importance to explain the global behavior of the\\nmodel. Results: Our model classifies IDA with a PR AUC of 0.87 and recall/sensitivity of 0.98 and\\n0.89 for the original dataset and an unseen Kenya dataset, respectively. The explanations indicate\\nthat low blood level of hemoglobin, higher age, and higher Red Blood Cell distribution width were\\nmost critical. We also found that optimization made only minor changes to the explanations and\\nthat the features used remained consistent with professional practice. Conclusions: The overall high\\nperformance and consistency of the results suggest that the approach would be acceptable to health\\nprofessionals and would support enhancements to current automated CBC analyzers.\\nKeywords: explainable AI; biomedical data; blood disorders; anemia; ferritin; iron deficiency; iron\\ndeficiency anemia; machine learning; SHAP\\n1. Introduction\\nIt is currently unknown how well data from routine Complete Blood Count (CBC)\\ntests alone can be used to identify a common form of anemia (iron deficiency), potentially\\nreplacing a more expensive test (serum ferritin) now used by experts for diagnosis. Here, we\\naddress this question through a novel application of Machine Learning methods involving\\nmodel training and feature selection. We then apply methods for explaining the output\\nof Machine Learning models to reveal which aspects of the CBC results contribute most\\nto a diagnosis and to what extent methods meant to improve model performance impact\\nthe role of different features. These additional tests allow us to confirm that the machine\\nlearning model’s “reasoning” is consistent with clinical judgment. This use of explanatory\\nAI to show the impact of feature selection on feature importance is also unique to this study.\\nAnemia, defined by blood hemoglobin levels lower than specific age and gender\\nreference levels [ 1], is of global health concern affecting the health and productivity of pop-\\nulations [ 2]. The 2023 Global Burden of Disease study estimated that the global prevalence\\nof anemia is about 24.5%, corresponding to about 1.98 billion people [ 2]. Iron deficiency\\nis a common, yet potentially preventable, cause of anemia because iron is an essential\\nnutrient for both the synthesis and functioning of hemoglobin [ 3]. Insufficient consump-\\ntion or malabsorption of dietary iron results in the reduced synthesis of red blood cells\\nand blood hemoglobin levels [ 1]. Thus, supplementation of iron is routinely practiced,\\nimproving blood hemoglobin levels in populations where the prevalence of anemia is more\\nthan 40% [ 1]. Although the most common cause of anemia has been iron deficiency, the\\nBioMedInformatics 2024 ,4, 661–673. https://doi.org/10.3390/biomedinformatics4010036 https://www.mdpi.com/journal/biomedinformatics' metadata={'source': 'biomed.pdf', 'page': 0}\n"
     ]
    }
   ],
   "source": [
    "print(pages[0])"
   ]
  },
  {
   "cell_type": "code",
   "execution_count": 28,
   "metadata": {},
   "outputs": [],
   "source": [
    "splitter = RecursiveCharacterTextSplitter(\n",
    "    chunk_size=250,\n",
    "    chunk_overlap=50,\n",
    "    length_function=len,\n",
    ")"
   ]
  },
  {
   "cell_type": "code",
   "execution_count": 29,
   "metadata": {},
   "outputs": [],
   "source": [
    "pages_text = [pages.page_content for pages in pages]\n",
    "# the type of pages is documents but we need to convert them into list of strings for splitting the text."
   ]
  },
  {
   "cell_type": "code",
   "execution_count": 33,
   "metadata": {},
   "outputs": [],
   "source": [
    "documents = splitter.create_documents(pages_text)\n",
    "# splitting the text into chunks of 250 characters and 50 characters overlap."
   ]
  },
  {
   "cell_type": "code",
   "execution_count": 34,
   "metadata": {},
   "outputs": [
    {
     "data": {
      "text/plain": [
       "langchain_core.documents.base.Document"
      ]
     },
     "execution_count": 34,
     "metadata": {},
     "output_type": "execute_result"
    }
   ],
   "source": [
    "type(documents[0])"
   ]
  },
  {
   "cell_type": "code",
   "execution_count": 35,
   "metadata": {},
   "outputs": [
    {
     "data": {
      "text/plain": [
       "277"
      ]
     },
     "execution_count": 35,
     "metadata": {},
     "output_type": "execute_result"
    }
   ],
   "source": [
    "len(documents)"
   ]
  },
  {
   "cell_type": "code",
   "execution_count": null,
   "metadata": {},
   "outputs": [],
   "source": [
    "\"\"\"\n",
    "You are a language model designed to evaluate the responses of this documentation query system.\n",
    "You will use a rating scale of 0 to 10, 0 being poorest response and 10 being the best.\n",
    "Responses with “not specified” or “no specific mention” or “rephrase question” or “unclear” or no documents returned or empty response are considered poor responses.\n",
    "Responses where the question appears to be answered are considered good.\n",
    "Responses that contain detailed answers are considered the best.\n",
    "Also, use your own judgement in analyzing if the question asked is actually answered in the response. Remember that a response that contains a request to “rephrase the question” is usually a non-response.\n",
    "Please rate the question/response pair entered. Only respond with the rating. No explanation necessary. Only integers.\n",
    "\"\"\""
   ]
  }
 ],
 "metadata": {
  "kernelspec": {
   "display_name": "base",
   "language": "python",
   "name": "python3"
  },
  "language_info": {
   "codemirror_mode": {
    "name": "ipython",
    "version": 3
   },
   "file_extension": ".py",
   "mimetype": "text/x-python",
   "name": "python",
   "nbconvert_exporter": "python",
   "pygments_lexer": "ipython3",
   "version": "3.10.14"
  }
 },
 "nbformat": 4,
 "nbformat_minor": 2
}
